{
  "nbformat": 4,
  "nbformat_minor": 0,
  "metadata": {
    "colab": {
      "name": "tmdb_5000_movies.ipynb",
      "provenance": [],
      "toc_visible": true,
      "authorship_tag": "ABX9TyMEY2/f1jKszTthiguAdFaC",
      "include_colab_link": true
    },
    "kernelspec": {
      "name": "python3",
      "display_name": "Python 3"
    },
    "language_info": {
      "name": "python"
    }
  },
  "cells": [
    {
      "cell_type": "markdown",
      "metadata": {
        "id": "view-in-github",
        "colab_type": "text"
      },
      "source": [
        "<a href=\"https://colab.research.google.com/github/mzdwedar/python-data-analysis/blob/main/tmdb_500/tmdb_5000_movies.ipynb\" target=\"_parent\"><img src=\"https://colab.research.google.com/assets/colab-badge.svg\" alt=\"Open In Colab\"/></a>"
      ]
    },
    {
      "cell_type": "code",
      "source": [
        "import pandas as pd\n",
        "import matplotlib.pyplot as plt\n"
      ],
      "metadata": {
        "id": "hWTlp7-3gI8A"
      },
      "execution_count": 6,
      "outputs": []
    },
    {
      "cell_type": "markdown",
      "source": [
        "## Get the data from kaggle"
      ],
      "metadata": {
        "id": "jPIVuIVkhmss"
      }
    },
    {
      "cell_type": "code",
      "source": [
        "! pip install -q kaggle\n",
        "\n",
        "! mkdir ~/.kaggle\n",
        "\n",
        "! cp kaggle.json ~/.kaggle/\n",
        "\n",
        "! chmod 600 ~/.kaggle/kaggle.json\n",
        "\n",
        "! pip install --upgrade --force-reinstall --no-deps kaggle"
      ],
      "metadata": {
        "colab": {
          "base_uri": "https://localhost:8080/"
        },
        "id": "OujXQyD7fUOy",
        "outputId": "04ea6393-241b-4ba0-a491-1f8d56af6090"
      },
      "execution_count": 1,
      "outputs": [
        {
          "output_type": "stream",
          "name": "stdout",
          "text": [
            "Looking in indexes: https://pypi.org/simple, https://us-python.pkg.dev/colab-wheels/public/simple/\n",
            "Collecting kaggle\n",
            "  Downloading kaggle-1.5.12.tar.gz (58 kB)\n",
            "\u001b[K     |████████████████████████████████| 58 kB 2.7 MB/s \n",
            "\u001b[?25hBuilding wheels for collected packages: kaggle\n",
            "  Building wheel for kaggle (setup.py) ... \u001b[?25l\u001b[?25hdone\n",
            "  Created wheel for kaggle: filename=kaggle-1.5.12-py3-none-any.whl size=73051 sha256=917416fb033253d342c5e4e4084d7f54a7d5e1dd7911756d2892d7ebb1b487e2\n",
            "  Stored in directory: /root/.cache/pip/wheels/62/d6/58/5853130f941e75b2177d281eb7e44b4a98ed46dd155f556dc5\n",
            "Successfully built kaggle\n",
            "Installing collected packages: kaggle\n",
            "  Attempting uninstall: kaggle\n",
            "    Found existing installation: kaggle 1.5.12\n",
            "    Uninstalling kaggle-1.5.12:\n",
            "      Successfully uninstalled kaggle-1.5.12\n",
            "Successfully installed kaggle-1.5.12\n"
          ]
        }
      ]
    },
    {
      "cell_type": "code",
      "source": [
        "! kaggle  datasets download -d datasets tmdb/tmdb-movie-metadata"
      ],
      "metadata": {
        "colab": {
          "base_uri": "https://localhost:8080/"
        },
        "id": "S5dWwhaKfYnR",
        "outputId": "0726f6e4-cf45-4f68-d133-135ba076e64e"
      },
      "execution_count": 4,
      "outputs": [
        {
          "output_type": "stream",
          "name": "stdout",
          "text": [
            "Downloading tmdb-movie-metadata.zip to /content\n",
            "\r  0% 0.00/8.89M [00:00<?, ?B/s]\n",
            "\r100% 8.89M/8.89M [00:00<00:00, 143MB/s]\n"
          ]
        }
      ]
    },
    {
      "cell_type": "code",
      "source": [
        "! unzip tmdb-movie-metadata.zip"
      ],
      "metadata": {
        "colab": {
          "base_uri": "https://localhost:8080/"
        },
        "id": "QGEEnjLIflfT",
        "outputId": "918bbe0d-d652-405c-ea3a-554220b0b9a9"
      },
      "execution_count": 5,
      "outputs": [
        {
          "output_type": "stream",
          "name": "stdout",
          "text": [
            "Archive:  tmdb-movie-metadata.zip\n",
            "  inflating: tmdb_5000_credits.csv   \n",
            "  inflating: tmdb_5000_movies.csv    \n"
          ]
        }
      ]
    },
    {
      "cell_type": "markdown",
      "source": [
        "## Data Wrangling\n",
        "\n",
        "\n",
        "*   Missing Values\n",
        "*   Choose appropriate dtypes\n",
        "\n"
      ],
      "metadata": {
        "id": "nP_3iFbohr69"
      }
    },
    {
      "cell_type": "code",
      "source": [
        "tmdb = pd.read_csv('tmdb_5000_movies.csv')"
      ],
      "metadata": {
        "id": "dX3Z-DXogC-_"
      },
      "execution_count": 12,
      "outputs": []
    },
    {
      "cell_type": "code",
      "source": [
        "tmdb.info()"
      ],
      "metadata": {
        "colab": {
          "base_uri": "https://localhost:8080/"
        },
        "id": "4KmMibd6gTsU",
        "outputId": "0d944e41-5cd2-4bab-fb06-f92656d18af9"
      },
      "execution_count": 13,
      "outputs": [
        {
          "output_type": "stream",
          "name": "stdout",
          "text": [
            "<class 'pandas.core.frame.DataFrame'>\n",
            "RangeIndex: 4803 entries, 0 to 4802\n",
            "Data columns (total 20 columns):\n",
            " #   Column                Non-Null Count  Dtype  \n",
            "---  ------                --------------  -----  \n",
            " 0   budget                4803 non-null   int64  \n",
            " 1   genres                4803 non-null   object \n",
            " 2   homepage              1712 non-null   object \n",
            " 3   id                    4803 non-null   int64  \n",
            " 4   keywords              4803 non-null   object \n",
            " 5   original_language     4803 non-null   object \n",
            " 6   original_title        4803 non-null   object \n",
            " 7   overview              4800 non-null   object \n",
            " 8   popularity            4803 non-null   float64\n",
            " 9   production_companies  4803 non-null   object \n",
            " 10  production_countries  4803 non-null   object \n",
            " 11  release_date          4802 non-null   object \n",
            " 12  revenue               4803 non-null   int64  \n",
            " 13  runtime               4801 non-null   float64\n",
            " 14  spoken_languages      4803 non-null   object \n",
            " 15  status                4803 non-null   object \n",
            " 16  tagline               3959 non-null   object \n",
            " 17  title                 4803 non-null   object \n",
            " 18  vote_average          4803 non-null   float64\n",
            " 19  vote_count            4803 non-null   int64  \n",
            "dtypes: float64(3), int64(4), object(13)\n",
            "memory usage: 750.6+ KB\n"
          ]
        }
      ]
    },
    {
      "cell_type": "code",
      "source": [
        "tmdb.isna().sum()"
      ],
      "metadata": {
        "colab": {
          "base_uri": "https://localhost:8080/"
        },
        "id": "MUS-ytS9g1Q4",
        "outputId": "8a34ee67-f3f9-4da1-963a-5646df0a8f6f"
      },
      "execution_count": 14,
      "outputs": [
        {
          "output_type": "execute_result",
          "data": {
            "text/plain": [
              "budget                     0\n",
              "genres                     0\n",
              "homepage                3091\n",
              "id                         0\n",
              "keywords                   0\n",
              "original_language          0\n",
              "original_title             0\n",
              "overview                   3\n",
              "popularity                 0\n",
              "production_companies       0\n",
              "production_countries       0\n",
              "release_date               1\n",
              "revenue                    0\n",
              "runtime                    2\n",
              "spoken_languages           0\n",
              "status                     0\n",
              "tagline                  844\n",
              "title                      0\n",
              "vote_average               0\n",
              "vote_count                 0\n",
              "dtype: int64"
            ]
          },
          "metadata": {},
          "execution_count": 14
        }
      ]
    },
    {
      "cell_type": "code",
      "source": [
        "def clean_data(tmdb):\n",
        "  return (\n",
        "      tmdb\n",
        "      .assign(\n",
        "        homepage = tmdb.homepage.fillna('<unk>'),\n",
        "        overview = tmdb.overview.fillna('<unk>'),\n",
        "        runtime = tmdb.runtime.fillna(tmdb.runtime.mean()),\n",
        "        tagline = tmdb.tagline.fillna('<unk>')\n",
        "      )\n",
        "      .astype({'id':'int32', 'release_date':'datetime64', 'runtime':'int16', 'status':'category', \n",
        "                    'vote_average':'float32', 'vote_count':'int16'}, errors='ignore')\n",
        "  )"
      ],
      "metadata": {
        "id": "Et4BCBgUhZBs"
      },
      "execution_count": 15,
      "outputs": []
    },
    {
      "cell_type": "markdown",
      "source": [
        "## Analysis"
      ],
      "metadata": {
        "id": "WA-_yYw5jUse"
      }
    },
    {
      "cell_type": "markdown",
      "source": [
        "**Statistical summary of the numerical columns**\n"
      ],
      "metadata": {
        "id": "kc2YXTLjkNvt"
      }
    },
    {
      "cell_type": "code",
      "source": [
        "numerical_cols = ['budget', 'popularity', 'revenue', 'runtime', 'vote_average', 'vote_count']\n",
        "\n",
        "tmdb[numerical_cols].agg(['mean', 'std', 'min', 'max'])"
      ],
      "metadata": {
        "colab": {
          "base_uri": "https://localhost:8080/",
          "height": 175
        },
        "id": "a-d-L-YbjImG",
        "outputId": "e2a516ae-4222-4269-b9bb-3c65a557e02e"
      },
      "execution_count": 17,
      "outputs": [
        {
          "output_type": "execute_result",
          "data": {
            "text/plain": [
              "            budget  popularity       revenue     runtime  vote_average  \\\n",
              "mean  2.904504e+07   21.492301  8.226064e+07  106.875859      6.092172   \n",
              "std   4.072239e+07   31.816650  1.628571e+08   22.611935      1.194612   \n",
              "min   0.000000e+00    0.000000  0.000000e+00    0.000000      0.000000   \n",
              "max   3.800000e+08  875.581305  2.787965e+09  338.000000     10.000000   \n",
              "\n",
              "        vote_count  \n",
              "mean    690.217989  \n",
              "std    1234.585891  \n",
              "min       0.000000  \n",
              "max   13752.000000  "
            ],
            "text/html": [
              "\n",
              "  <div id=\"df-2c7c98b5-665a-46dc-a784-277df35ab9c1\">\n",
              "    <div class=\"colab-df-container\">\n",
              "      <div>\n",
              "<style scoped>\n",
              "    .dataframe tbody tr th:only-of-type {\n",
              "        vertical-align: middle;\n",
              "    }\n",
              "\n",
              "    .dataframe tbody tr th {\n",
              "        vertical-align: top;\n",
              "    }\n",
              "\n",
              "    .dataframe thead th {\n",
              "        text-align: right;\n",
              "    }\n",
              "</style>\n",
              "<table border=\"1\" class=\"dataframe\">\n",
              "  <thead>\n",
              "    <tr style=\"text-align: right;\">\n",
              "      <th></th>\n",
              "      <th>budget</th>\n",
              "      <th>popularity</th>\n",
              "      <th>revenue</th>\n",
              "      <th>runtime</th>\n",
              "      <th>vote_average</th>\n",
              "      <th>vote_count</th>\n",
              "    </tr>\n",
              "  </thead>\n",
              "  <tbody>\n",
              "    <tr>\n",
              "      <th>mean</th>\n",
              "      <td>2.904504e+07</td>\n",
              "      <td>21.492301</td>\n",
              "      <td>8.226064e+07</td>\n",
              "      <td>106.875859</td>\n",
              "      <td>6.092172</td>\n",
              "      <td>690.217989</td>\n",
              "    </tr>\n",
              "    <tr>\n",
              "      <th>std</th>\n",
              "      <td>4.072239e+07</td>\n",
              "      <td>31.816650</td>\n",
              "      <td>1.628571e+08</td>\n",
              "      <td>22.611935</td>\n",
              "      <td>1.194612</td>\n",
              "      <td>1234.585891</td>\n",
              "    </tr>\n",
              "    <tr>\n",
              "      <th>min</th>\n",
              "      <td>0.000000e+00</td>\n",
              "      <td>0.000000</td>\n",
              "      <td>0.000000e+00</td>\n",
              "      <td>0.000000</td>\n",
              "      <td>0.000000</td>\n",
              "      <td>0.000000</td>\n",
              "    </tr>\n",
              "    <tr>\n",
              "      <th>max</th>\n",
              "      <td>3.800000e+08</td>\n",
              "      <td>875.581305</td>\n",
              "      <td>2.787965e+09</td>\n",
              "      <td>338.000000</td>\n",
              "      <td>10.000000</td>\n",
              "      <td>13752.000000</td>\n",
              "    </tr>\n",
              "  </tbody>\n",
              "</table>\n",
              "</div>\n",
              "      <button class=\"colab-df-convert\" onclick=\"convertToInteractive('df-2c7c98b5-665a-46dc-a784-277df35ab9c1')\"\n",
              "              title=\"Convert this dataframe to an interactive table.\"\n",
              "              style=\"display:none;\">\n",
              "        \n",
              "  <svg xmlns=\"http://www.w3.org/2000/svg\" height=\"24px\"viewBox=\"0 0 24 24\"\n",
              "       width=\"24px\">\n",
              "    <path d=\"M0 0h24v24H0V0z\" fill=\"none\"/>\n",
              "    <path d=\"M18.56 5.44l.94 2.06.94-2.06 2.06-.94-2.06-.94-.94-2.06-.94 2.06-2.06.94zm-11 1L8.5 8.5l.94-2.06 2.06-.94-2.06-.94L8.5 2.5l-.94 2.06-2.06.94zm10 10l.94 2.06.94-2.06 2.06-.94-2.06-.94-.94-2.06-.94 2.06-2.06.94z\"/><path d=\"M17.41 7.96l-1.37-1.37c-.4-.4-.92-.59-1.43-.59-.52 0-1.04.2-1.43.59L10.3 9.45l-7.72 7.72c-.78.78-.78 2.05 0 2.83L4 21.41c.39.39.9.59 1.41.59.51 0 1.02-.2 1.41-.59l7.78-7.78 2.81-2.81c.8-.78.8-2.07 0-2.86zM5.41 20L4 18.59l7.72-7.72 1.47 1.35L5.41 20z\"/>\n",
              "  </svg>\n",
              "      </button>\n",
              "      \n",
              "  <style>\n",
              "    .colab-df-container {\n",
              "      display:flex;\n",
              "      flex-wrap:wrap;\n",
              "      gap: 12px;\n",
              "    }\n",
              "\n",
              "    .colab-df-convert {\n",
              "      background-color: #E8F0FE;\n",
              "      border: none;\n",
              "      border-radius: 50%;\n",
              "      cursor: pointer;\n",
              "      display: none;\n",
              "      fill: #1967D2;\n",
              "      height: 32px;\n",
              "      padding: 0 0 0 0;\n",
              "      width: 32px;\n",
              "    }\n",
              "\n",
              "    .colab-df-convert:hover {\n",
              "      background-color: #E2EBFA;\n",
              "      box-shadow: 0px 1px 2px rgba(60, 64, 67, 0.3), 0px 1px 3px 1px rgba(60, 64, 67, 0.15);\n",
              "      fill: #174EA6;\n",
              "    }\n",
              "\n",
              "    [theme=dark] .colab-df-convert {\n",
              "      background-color: #3B4455;\n",
              "      fill: #D2E3FC;\n",
              "    }\n",
              "\n",
              "    [theme=dark] .colab-df-convert:hover {\n",
              "      background-color: #434B5C;\n",
              "      box-shadow: 0px 1px 3px 1px rgba(0, 0, 0, 0.15);\n",
              "      filter: drop-shadow(0px 1px 2px rgba(0, 0, 0, 0.3));\n",
              "      fill: #FFFFFF;\n",
              "    }\n",
              "  </style>\n",
              "\n",
              "      <script>\n",
              "        const buttonEl =\n",
              "          document.querySelector('#df-2c7c98b5-665a-46dc-a784-277df35ab9c1 button.colab-df-convert');\n",
              "        buttonEl.style.display =\n",
              "          google.colab.kernel.accessAllowed ? 'block' : 'none';\n",
              "\n",
              "        async function convertToInteractive(key) {\n",
              "          const element = document.querySelector('#df-2c7c98b5-665a-46dc-a784-277df35ab9c1');\n",
              "          const dataTable =\n",
              "            await google.colab.kernel.invokeFunction('convertToInteractive',\n",
              "                                                     [key], {});\n",
              "          if (!dataTable) return;\n",
              "\n",
              "          const docLinkHtml = 'Like what you see? Visit the ' +\n",
              "            '<a target=\"_blank\" href=https://colab.research.google.com/notebooks/data_table.ipynb>data table notebook</a>'\n",
              "            + ' to learn more about interactive tables.';\n",
              "          element.innerHTML = '';\n",
              "          dataTable['output_type'] = 'display_data';\n",
              "          await google.colab.output.renderOutput(dataTable, element);\n",
              "          const docLink = document.createElement('div');\n",
              "          docLink.innerHTML = docLinkHtml;\n",
              "          element.appendChild(docLink);\n",
              "        }\n",
              "      </script>\n",
              "    </div>\n",
              "  </div>\n",
              "  "
            ]
          },
          "metadata": {},
          "execution_count": 17
        }
      ]
    },
    {
      "cell_type": "markdown",
      "source": [
        "**Average rate of the years 2000, 2001, 2002, 2003**"
      ],
      "metadata": {
        "id": "1Ur10nG2kw5k"
      }
    },
    {
      "cell_type": "code",
      "source": [
        "cleaned_tmdb = clean_data(tmdb)\n",
        "\n",
        "mask = clean_data(tmdb).release_date.dt.year.isin([2000, 2001, 2002, 2003])\n",
        "\n",
        "\n",
        "(cleaned_tmdb[mask]\n",
        " .groupby(cleaned_tmdb[mask].release_date.dt.year)\n",
        " .vote_average\n",
        " .mean())"
      ],
      "metadata": {
        "colab": {
          "base_uri": "https://localhost:8080/"
        },
        "id": "4tAvL-YMlEWs",
        "outputId": "e93a3a75-a731-49d9-8006-c19b59283f74"
      },
      "execution_count": 29,
      "outputs": [
        {
          "output_type": "execute_result",
          "data": {
            "text/plain": [
              "release_date\n",
              "2000    5.956024\n",
              "2001    6.046995\n",
              "2002    6.096552\n",
              "2003    6.012426\n",
              "Name: vote_average, dtype: float32"
            ]
          },
          "metadata": {},
          "execution_count": 29
        }
      ]
    },
    {
      "cell_type": "markdown",
      "source": [
        "**Rearange the dataframe based on revenue - budget values**"
      ],
      "metadata": {
        "id": "cDPqc1Jpq3jF"
      }
    },
    {
      "cell_type": "code",
      "source": [
        "cleaned_tmdb.iloc[(cleaned_tmdb.revenue  - cleaned_tmdb.budget).sort_values().index]"
      ],
      "metadata": {
        "id": "XWWokBQ0k7v6"
      },
      "execution_count": null,
      "outputs": []
    },
    {
      "cell_type": "markdown",
      "source": [
        "**Allocate the year with the largest movies released in  ['Action', 'Romance']**\n",
        "\n",
        "1.   Extract 'name' from json objects\n",
        "2.   Filter the records of two genres (action, romance)\n",
        "3.   Groupby (release_year and genre)\n",
        "\n",
        "\n",
        "\n",
        "\n",
        "\n",
        "\n"
      ],
      "metadata": {
        "id": "TaK66KTkrNCF"
      }
    },
    {
      "cell_type": "code",
      "source": [
        "import json \n",
        "from itertools import chain\n",
        "\n",
        "def extract_genre(genres):\n",
        "  new_vals = []\n",
        "  for item in json.loads(genres):\n",
        "    new_vals.append(item['name'])\n",
        "\n",
        "  return new_vals\n",
        "\n",
        "def filter_action_romance(genre):\n",
        "  return genre['genres'].isin(['Action', 'Romance'])\n",
        "\n",
        "def apply_mask(mask, tmdb):\n",
        "  return tmdb_genres[mask]\n",
        "\n",
        "genres = cleaned_tmdb['genres'].apply(extract_genre)\n",
        "\n",
        "tmdb_genres = pd.DataFrame({\n",
        "    'genres' : list(chain.from_iterable(genres.tolist())), \n",
        "    # 'title' : tmdb.original_title.repeat(genres.str.len()),\n",
        "    'release_year' : cleaned_tmdb.release_date.repeat(genres.str.len())\n",
        "})\n",
        "\n",
        "(tmdb_genres\n",
        " .pipe(filter_action_romance)\n",
        " .pipe(apply_mask, tmdb_genres)\n",
        ").reset_index(drop=True).groupby([tmdb_genres.release_year.dt.year, 'genres'], sort=False)"
      ],
      "metadata": {
        "id": "njOs9OtYq_RS"
      },
      "execution_count": null,
      "outputs": []
    },
    {
      "cell_type": "markdown",
      "source": [
        "**Find the movies with top 5 revenue - budget value**"
      ],
      "metadata": {
        "id": "14e-iDZMxAXe"
      }
    },
    {
      "cell_type": "code",
      "source": [
        "top_5_mask = (cleaned_tmdb.revenue  - cleaned_tmdb.budget).sort_values(ascending=False).index[:5]\n",
        "cleaned_tmdb.iloc[top_5_mask]"
      ],
      "metadata": {
        "id": "hSW3umv2wkUt"
      },
      "execution_count": null,
      "outputs": []
    },
    {
      "cell_type": "markdown",
      "source": [
        "**The year with the highest number of movies release**"
      ],
      "metadata": {
        "id": "8E8Oa69yxNNi"
      }
    },
    {
      "cell_type": "code",
      "source": [
        "(cleaned_tmdb\n",
        " .groupby(cleaned_tmdb.release_date.dt.year)\n",
        " .original_title\n",
        " .count()\n",
        " .sort_values(ascending=False)\n",
        " .index[0]\n",
        " )"
      ],
      "metadata": {
        "colab": {
          "base_uri": "https://localhost:8080/"
        },
        "id": "JbsWV3fzxG92",
        "outputId": "2dc66343-b2cf-4895-c356-fcecf2950d3e"
      },
      "execution_count": 38,
      "outputs": [
        {
          "output_type": "execute_result",
          "data": {
            "text/plain": [
              "2009.0"
            ]
          },
          "metadata": {},
          "execution_count": 38
        }
      ]
    },
    {
      "cell_type": "markdown",
      "source": [
        "**The top 2 countries with the highest production movies number**"
      ],
      "metadata": {
        "id": "Rt7NLAGcxfar"
      }
    },
    {
      "cell_type": "code",
      "source": [
        "def extract_countries(countries):\n",
        "  new_vals = []\n",
        "  for item in json.loads(countries):\n",
        "    new_vals.append(item['name'])\n",
        "\n",
        "  return new_vals\n",
        "\n",
        "countries = cleaned_tmdb['production_countries'].apply(extract_countries)\n",
        "\n",
        "pd.DataFrame({\n",
        "    'countries' : list(chain.from_iterable(countries.tolist())), \n",
        "    'title' : cleaned_tmdb.original_title.repeat(countries.str.len())\n",
        "}).groupby('countries').agg(total_movies = ('title', 'count')).sort_values(by='total_movies', ascending=False).iloc[:2]"
      ],
      "metadata": {
        "colab": {
          "base_uri": "https://localhost:8080/",
          "height": 143
        },
        "id": "Y1M9z4t6xUAV",
        "outputId": "7073f754-3054-4ba1-b725-de01f6c92017"
      },
      "execution_count": 39,
      "outputs": [
        {
          "output_type": "execute_result",
          "data": {
            "text/plain": [
              "                          total_movies\n",
              "countries                             \n",
              "United States of America          3956\n",
              "United Kingdom                     636"
            ],
            "text/html": [
              "\n",
              "  <div id=\"df-03294989-fa89-4536-909d-2420577613fc\">\n",
              "    <div class=\"colab-df-container\">\n",
              "      <div>\n",
              "<style scoped>\n",
              "    .dataframe tbody tr th:only-of-type {\n",
              "        vertical-align: middle;\n",
              "    }\n",
              "\n",
              "    .dataframe tbody tr th {\n",
              "        vertical-align: top;\n",
              "    }\n",
              "\n",
              "    .dataframe thead th {\n",
              "        text-align: right;\n",
              "    }\n",
              "</style>\n",
              "<table border=\"1\" class=\"dataframe\">\n",
              "  <thead>\n",
              "    <tr style=\"text-align: right;\">\n",
              "      <th></th>\n",
              "      <th>total_movies</th>\n",
              "    </tr>\n",
              "    <tr>\n",
              "      <th>countries</th>\n",
              "      <th></th>\n",
              "    </tr>\n",
              "  </thead>\n",
              "  <tbody>\n",
              "    <tr>\n",
              "      <th>United States of America</th>\n",
              "      <td>3956</td>\n",
              "    </tr>\n",
              "    <tr>\n",
              "      <th>United Kingdom</th>\n",
              "      <td>636</td>\n",
              "    </tr>\n",
              "  </tbody>\n",
              "</table>\n",
              "</div>\n",
              "      <button class=\"colab-df-convert\" onclick=\"convertToInteractive('df-03294989-fa89-4536-909d-2420577613fc')\"\n",
              "              title=\"Convert this dataframe to an interactive table.\"\n",
              "              style=\"display:none;\">\n",
              "        \n",
              "  <svg xmlns=\"http://www.w3.org/2000/svg\" height=\"24px\"viewBox=\"0 0 24 24\"\n",
              "       width=\"24px\">\n",
              "    <path d=\"M0 0h24v24H0V0z\" fill=\"none\"/>\n",
              "    <path d=\"M18.56 5.44l.94 2.06.94-2.06 2.06-.94-2.06-.94-.94-2.06-.94 2.06-2.06.94zm-11 1L8.5 8.5l.94-2.06 2.06-.94-2.06-.94L8.5 2.5l-.94 2.06-2.06.94zm10 10l.94 2.06.94-2.06 2.06-.94-2.06-.94-.94-2.06-.94 2.06-2.06.94z\"/><path d=\"M17.41 7.96l-1.37-1.37c-.4-.4-.92-.59-1.43-.59-.52 0-1.04.2-1.43.59L10.3 9.45l-7.72 7.72c-.78.78-.78 2.05 0 2.83L4 21.41c.39.39.9.59 1.41.59.51 0 1.02-.2 1.41-.59l7.78-7.78 2.81-2.81c.8-.78.8-2.07 0-2.86zM5.41 20L4 18.59l7.72-7.72 1.47 1.35L5.41 20z\"/>\n",
              "  </svg>\n",
              "      </button>\n",
              "      \n",
              "  <style>\n",
              "    .colab-df-container {\n",
              "      display:flex;\n",
              "      flex-wrap:wrap;\n",
              "      gap: 12px;\n",
              "    }\n",
              "\n",
              "    .colab-df-convert {\n",
              "      background-color: #E8F0FE;\n",
              "      border: none;\n",
              "      border-radius: 50%;\n",
              "      cursor: pointer;\n",
              "      display: none;\n",
              "      fill: #1967D2;\n",
              "      height: 32px;\n",
              "      padding: 0 0 0 0;\n",
              "      width: 32px;\n",
              "    }\n",
              "\n",
              "    .colab-df-convert:hover {\n",
              "      background-color: #E2EBFA;\n",
              "      box-shadow: 0px 1px 2px rgba(60, 64, 67, 0.3), 0px 1px 3px 1px rgba(60, 64, 67, 0.15);\n",
              "      fill: #174EA6;\n",
              "    }\n",
              "\n",
              "    [theme=dark] .colab-df-convert {\n",
              "      background-color: #3B4455;\n",
              "      fill: #D2E3FC;\n",
              "    }\n",
              "\n",
              "    [theme=dark] .colab-df-convert:hover {\n",
              "      background-color: #434B5C;\n",
              "      box-shadow: 0px 1px 3px 1px rgba(0, 0, 0, 0.15);\n",
              "      filter: drop-shadow(0px 1px 2px rgba(0, 0, 0, 0.3));\n",
              "      fill: #FFFFFF;\n",
              "    }\n",
              "  </style>\n",
              "\n",
              "      <script>\n",
              "        const buttonEl =\n",
              "          document.querySelector('#df-03294989-fa89-4536-909d-2420577613fc button.colab-df-convert');\n",
              "        buttonEl.style.display =\n",
              "          google.colab.kernel.accessAllowed ? 'block' : 'none';\n",
              "\n",
              "        async function convertToInteractive(key) {\n",
              "          const element = document.querySelector('#df-03294989-fa89-4536-909d-2420577613fc');\n",
              "          const dataTable =\n",
              "            await google.colab.kernel.invokeFunction('convertToInteractive',\n",
              "                                                     [key], {});\n",
              "          if (!dataTable) return;\n",
              "\n",
              "          const docLinkHtml = 'Like what you see? Visit the ' +\n",
              "            '<a target=\"_blank\" href=https://colab.research.google.com/notebooks/data_table.ipynb>data table notebook</a>'\n",
              "            + ' to learn more about interactive tables.';\n",
              "          element.innerHTML = '';\n",
              "          dataTable['output_type'] = 'display_data';\n",
              "          await google.colab.output.renderOutput(dataTable, element);\n",
              "          const docLink = document.createElement('div');\n",
              "          docLink.innerHTML = docLinkHtml;\n",
              "          element.appendChild(docLink);\n",
              "        }\n",
              "      </script>\n",
              "    </div>\n",
              "  </div>\n",
              "  "
            ]
          },
          "metadata": {},
          "execution_count": 39
        }
      ]
    },
    {
      "cell_type": "markdown",
      "source": [
        "**The top 1 company with the highest production movies number**"
      ],
      "metadata": {
        "id": "acTwLmdEyZpz"
      }
    },
    {
      "cell_type": "code",
      "source": [
        "def extract_companies(companies):\n",
        "  new_vals = []\n",
        "  for item in json.loads(companies):\n",
        "    new_vals.append(item['name'])\n",
        "\n",
        "  return new_vals\n",
        "\n",
        "companies = cleaned_tmdb['production_companies'].apply(extract_companies)\n",
        "\n",
        "pd.DataFrame({\n",
        "    'companies' : list(chain.from_iterable(companies.tolist())), \n",
        "    'title' : cleaned_tmdb.original_title.repeat(companies.str.len())\n",
        "}).groupby('companies').agg(total_movies = ('title', 'count')).sort_values(by='total_movies', ascending=False).iloc[0]"
      ],
      "metadata": {
        "colab": {
          "base_uri": "https://localhost:8080/"
        },
        "id": "ik9wGN8NxrBp",
        "outputId": "ecb5d2f7-7d94-4750-e171-04959aa83984"
      },
      "execution_count": 40,
      "outputs": [
        {
          "output_type": "execute_result",
          "data": {
            "text/plain": [
              "total_movies    319\n",
              "Name: Warner Bros., dtype: int64"
            ]
          },
          "metadata": {},
          "execution_count": 40
        }
      ]
    },
    {
      "cell_type": "markdown",
      "source": [
        "**Is there any relation between the runtime and average vote value**"
      ],
      "metadata": {
        "id": "aaxmXoqRzLnR"
      }
    },
    {
      "cell_type": "code",
      "source": [
        "pearson = tmdb['runtime'].corr(tmdb['vote_average'])\n",
        "\n",
        "plt.scatter(data=tmdb, y='runtime', x='vote_average')\n",
        "plt.xlabel('vote_average')\n",
        "plt.ylabel('runtime')\n",
        "plt.title(f'corr: {pearson}')\n",
        "\n",
        "# The linear coorelation is weak !"
      ],
      "metadata": {
        "colab": {
          "base_uri": "https://localhost:8080/",
          "height": 313
        },
        "id": "EwBt5DvzzJug",
        "outputId": "c863fc3c-69af-4f72-9a9c-03e71bfe271c"
      },
      "execution_count": 41,
      "outputs": [
        {
          "output_type": "execute_result",
          "data": {
            "text/plain": [
              "Text(0.5, 1.0, 'corr: 0.3750456803651881')"
            ]
          },
          "metadata": {},
          "execution_count": 41
        },
        {
          "output_type": "display_data",
          "data": {
            "text/plain": [
              "<Figure size 432x288 with 1 Axes>"
            ],
            "image/png": "[encoded data removed]"
          },
          "metadata": {
            "needs_background": "light"
          }
        }
      ]
    },
    {
      "cell_type": "markdown",
      "source": [
        "**The most unsuccessful movie along time in terms of revenue - budget**"
      ],
      "metadata": {
        "id": "3r__mgm4zhHJ"
      }
    },
    {
      "cell_type": "code",
      "source": [
        "lowest_profit_mask = (cleaned_tmdb.revenue  - cleaned_tmdb.budget).sort_values().index[0]\n",
        "cleaned_tmdb.iloc[lowest_profit_mask]"
      ],
      "metadata": {
        "colab": {
          "base_uri": "https://localhost:8080/"
        },
        "id": "i_KSA4kkzQiX",
        "outputId": "68d372c2-f974-4da7-b895-aa9d7c641591"
      },
      "execution_count": 42,
      "outputs": [
        {
          "output_type": "execute_result",
          "data": {
            "text/plain": [
              "budget                                                          255000000\n",
              "genres                  [{\"id\": 28, \"name\": \"Action\"}, {\"id\": 12, \"nam...\n",
              "homepage                            http://disney.go.com/the-lone-ranger/\n",
              "id                                                                  57201\n",
              "keywords                [{\"id\": 1556, \"name\": \"texas\"}, {\"id\": 2673, \"...\n",
              "original_language                                                      en\n",
              "original_title                                            The Lone Ranger\n",
              "overview                The Texas Rangers chase down a gang of outlaws...\n",
              "popularity                                                      49.046956\n",
              "production_companies    [{\"name\": \"Walt Disney Pictures\", \"id\": 2}, {\"...\n",
              "production_countries    [{\"iso_3166_1\": \"US\", \"name\": \"United States o...\n",
              "release_date                                          2013-07-03 00:00:00\n",
              "revenue                                                          89289910\n",
              "runtime                                                               149\n",
              "spoken_languages                 [{\"iso_639_1\": \"en\", \"name\": \"English\"}]\n",
              "status                                                           Released\n",
              "tagline                                           Never Take Off the Mask\n",
              "title                                                     The Lone Ranger\n",
              "vote_average                                                          5.9\n",
              "vote_count                                                           2311\n",
              "Name: 13, dtype: object"
            ]
          },
          "metadata": {},
          "execution_count": 42
        }
      ]
    },
    {
      "cell_type": "markdown",
      "source": [
        "**The top 5 successful years for the USA cinema based on the total income devided by number of movies**"
      ],
      "metadata": {
        "id": "wGvsTKTRzuVP"
      }
    },
    {
      "cell_type": "code",
      "source": [
        "from itertools import chain\n",
        "\n",
        "countries = cleaned_tmdb['production_countries'].apply(extract_countries)\n",
        "\n",
        "def filter_usa(df):\n",
        "  return df['countries'].isin(['United States of America'])\n",
        "\n",
        "def apply_mask(mask, tmdb_countries):\n",
        "  return tmdb_countries[mask][['revenue', 'release_year']]\n",
        "\n",
        "def groupby_year(df):\n",
        "  return df.groupby(df.release_year.dt.year).agg(['sum', 'count'])\n",
        "\n",
        "def compute_metric(df):\n",
        "  return df.revenue['sum'] / df.revenue['count']\n",
        "\n",
        "tmdb_usa = pd.DataFrame({\n",
        "    'countries' : list(chain.from_iterable(countries.tolist())), \n",
        "    'revenue' : cleaned_tmdb.revenue.repeat(countries.str.len()),\n",
        "    'release_year': cleaned_tmdb.release_date.repeat(countries.str.len()),\n",
        "})\n",
        "\n",
        "(tmdb_usa\n",
        " .pipe(filter_usa)\n",
        " .pipe(apply_mask, tmdb_usa)\n",
        " .pipe(groupby_year)\n",
        " .pipe(compute_metric)\n",
        " ).sort_values(ascending=False).iloc[:5]"
      ],
      "metadata": {
        "colab": {
          "base_uri": "https://localhost:8080/"
        },
        "id": "y6HDWDIdzoU-",
        "outputId": "0203fd40-9993-48d0-cca2-4026686d8af8"
      },
      "execution_count": 43,
      "outputs": [
        {
          "output_type": "execute_result",
          "data": {
            "text/plain": [
              "release_year\n",
              "2016    1.603217e+08\n",
              "1975    1.519088e+08\n",
              "1939    1.478438e+08\n",
              "2012    1.398315e+08\n",
              "1942    1.389548e+08\n",
              "dtype: float64"
            ]
          },
          "metadata": {},
          "execution_count": 43
        }
      ]
    },
    {
      "cell_type": "markdown",
      "source": [
        "**Find the most succesfull movie in [USA, UK]**"
      ],
      "metadata": {
        "id": "NZp3Jahg1tr4"
      }
    },
    {
      "cell_type": "code",
      "source": [
        "from itertools import chain\n",
        "\n",
        "countries = cleaned_tmdb['production_countries'].apply(extract_countries)\n",
        "\n",
        "def filter_usa_uk(df):\n",
        "  return df['countries'].isin(['United States of America', 'United Kingdom'])\n",
        "\n",
        "def apply_mask(mask, tmdb_countries):\n",
        "  return tmdb_countries[mask]\n",
        "\n",
        "#  **assuming successfull == revenue**\n",
        "tmdb_countries = pd.DataFrame({\n",
        "    'countries' : list(chain.from_iterable(countries.tolist())), \n",
        "    'revenue' : cleaned_tmdb.revenue.repeat(countries.str.len()),\n",
        "    'title':cleaned_tmdb.original_title.repeat(countries.str.len())\n",
        "})\n",
        "\n",
        "(tmdb_countries\n",
        " .pipe(filter_usa_uk)\n",
        " .pipe(apply_mask, tmdb_countries)\n",
        " ).groupby(['countries', 'title']).max('revenue').sort_values(by='revenue', ascending=False).iloc[:2]"
      ],
      "metadata": {
        "colab": {
          "base_uri": "https://localhost:8080/",
          "height": 143
        },
        "id": "Yzra9uqd0Y0t",
        "outputId": "5da9f972-e9ff-49a7-d652-9ffc96f31192"
      },
      "execution_count": 44,
      "outputs": [
        {
          "output_type": "execute_result",
          "data": {
            "text/plain": [
              "                                    revenue\n",
              "countries                title             \n",
              "United States of America Avatar  2787965087\n",
              "United Kingdom           Avatar  2787965087"
            ],
            "text/html": [
              "\n",
              "  <div id=\"df-8f440f7a-d88d-43d7-b16e-8701ccac8aff\">\n",
              "    <div class=\"colab-df-container\">\n",
              "      <div>\n",
              "<style scoped>\n",
              "    .dataframe tbody tr th:only-of-type {\n",
              "        vertical-align: middle;\n",
              "    }\n",
              "\n",
              "    .dataframe tbody tr th {\n",
              "        vertical-align: top;\n",
              "    }\n",
              "\n",
              "    .dataframe thead th {\n",
              "        text-align: right;\n",
              "    }\n",
              "</style>\n",
              "<table border=\"1\" class=\"dataframe\">\n",
              "  <thead>\n",
              "    <tr style=\"text-align: right;\">\n",
              "      <th></th>\n",
              "      <th></th>\n",
              "      <th>revenue</th>\n",
              "    </tr>\n",
              "    <tr>\n",
              "      <th>countries</th>\n",
              "      <th>title</th>\n",
              "      <th></th>\n",
              "    </tr>\n",
              "  </thead>\n",
              "  <tbody>\n",
              "    <tr>\n",
              "      <th>United States of America</th>\n",
              "      <th>Avatar</th>\n",
              "      <td>2787965087</td>\n",
              "    </tr>\n",
              "    <tr>\n",
              "      <th>United Kingdom</th>\n",
              "      <th>Avatar</th>\n",
              "      <td>2787965087</td>\n",
              "    </tr>\n",
              "  </tbody>\n",
              "</table>\n",
              "</div>\n",
              "      <button class=\"colab-df-convert\" onclick=\"convertToInteractive('df-8f440f7a-d88d-43d7-b16e-8701ccac8aff')\"\n",
              "              title=\"Convert this dataframe to an interactive table.\"\n",
              "              style=\"display:none;\">\n",
              "        \n",
              "  <svg xmlns=\"http://www.w3.org/2000/svg\" height=\"24px\"viewBox=\"0 0 24 24\"\n",
              "       width=\"24px\">\n",
              "    <path d=\"M0 0h24v24H0V0z\" fill=\"none\"/>\n",
              "    <path d=\"M18.56 5.44l.94 2.06.94-2.06 2.06-.94-2.06-.94-.94-2.06-.94 2.06-2.06.94zm-11 1L8.5 8.5l.94-2.06 2.06-.94-2.06-.94L8.5 2.5l-.94 2.06-2.06.94zm10 10l.94 2.06.94-2.06 2.06-.94-2.06-.94-.94-2.06-.94 2.06-2.06.94z\"/><path d=\"M17.41 7.96l-1.37-1.37c-.4-.4-.92-.59-1.43-.59-.52 0-1.04.2-1.43.59L10.3 9.45l-7.72 7.72c-.78.78-.78 2.05 0 2.83L4 21.41c.39.39.9.59 1.41.59.51 0 1.02-.2 1.41-.59l7.78-7.78 2.81-2.81c.8-.78.8-2.07 0-2.86zM5.41 20L4 18.59l7.72-7.72 1.47 1.35L5.41 20z\"/>\n",
              "  </svg>\n",
              "      </button>\n",
              "      \n",
              "  <style>\n",
              "    .colab-df-container {\n",
              "      display:flex;\n",
              "      flex-wrap:wrap;\n",
              "      gap: 12px;\n",
              "    }\n",
              "\n",
              "    .colab-df-convert {\n",
              "      background-color: #E8F0FE;\n",
              "      border: none;\n",
              "      border-radius: 50%;\n",
              "      cursor: pointer;\n",
              "      display: none;\n",
              "      fill: #1967D2;\n",
              "      height: 32px;\n",
              "      padding: 0 0 0 0;\n",
              "      width: 32px;\n",
              "    }\n",
              "\n",
              "    .colab-df-convert:hover {\n",
              "      background-color: #E2EBFA;\n",
              "      box-shadow: 0px 1px 2px rgba(60, 64, 67, 0.3), 0px 1px 3px 1px rgba(60, 64, 67, 0.15);\n",
              "      fill: #174EA6;\n",
              "    }\n",
              "\n",
              "    [theme=dark] .colab-df-convert {\n",
              "      background-color: #3B4455;\n",
              "      fill: #D2E3FC;\n",
              "    }\n",
              "\n",
              "    [theme=dark] .colab-df-convert:hover {\n",
              "      background-color: #434B5C;\n",
              "      box-shadow: 0px 1px 3px 1px rgba(0, 0, 0, 0.15);\n",
              "      filter: drop-shadow(0px 1px 2px rgba(0, 0, 0, 0.3));\n",
              "      fill: #FFFFFF;\n",
              "    }\n",
              "  </style>\n",
              "\n",
              "      <script>\n",
              "        const buttonEl =\n",
              "          document.querySelector('#df-8f440f7a-d88d-43d7-b16e-8701ccac8aff button.colab-df-convert');\n",
              "        buttonEl.style.display =\n",
              "          google.colab.kernel.accessAllowed ? 'block' : 'none';\n",
              "\n",
              "        async function convertToInteractive(key) {\n",
              "          const element = document.querySelector('#df-8f440f7a-d88d-43d7-b16e-8701ccac8aff');\n",
              "          const dataTable =\n",
              "            await google.colab.kernel.invokeFunction('convertToInteractive',\n",
              "                                                     [key], {});\n",
              "          if (!dataTable) return;\n",
              "\n",
              "          const docLinkHtml = 'Like what you see? Visit the ' +\n",
              "            '<a target=\"_blank\" href=https://colab.research.google.com/notebooks/data_table.ipynb>data table notebook</a>'\n",
              "            + ' to learn more about interactive tables.';\n",
              "          element.innerHTML = '';\n",
              "          dataTable['output_type'] = 'display_data';\n",
              "          await google.colab.output.renderOutput(dataTable, element);\n",
              "          const docLink = document.createElement('div');\n",
              "          docLink.innerHTML = docLinkHtml;\n",
              "          element.appendChild(docLink);\n",
              "        }\n",
              "      </script>\n",
              "    </div>\n",
              "  </div>\n",
              "  "
            ]
          },
          "metadata": {},
          "execution_count": 44
        }
      ]
    }
  ]
}