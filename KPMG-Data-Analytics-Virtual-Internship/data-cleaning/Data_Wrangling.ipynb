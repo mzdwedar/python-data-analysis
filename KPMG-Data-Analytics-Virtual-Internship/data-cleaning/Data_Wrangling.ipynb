{
  "nbformat": 4,
  "nbformat_minor": 0,
  "metadata": {
    "colab": {
      "name": "Data Wrangling.ipynb",
      "provenance": [],
      "collapsed_sections": [],
      "authorship_tag": "ABX9TyO28uoECAaD2/pjRRNZ9FRZ",
      "include_colab_link": true
    },
    "kernelspec": {
      "name": "python3",
      "display_name": "Python 3"
    },
    "language_info": {
      "name": "python"
    }
  },
  "cells": [
    {
      "cell_type": "markdown",
      "metadata": {
        "id": "view-in-github",
        "colab_type": "text"
      },
      "source": [
        "<a href=\"https://colab.research.google.com/github/mzdwedar/python-data-analysis/blob/main/KPMG-Data-Analytics-Virtual-Internship/data-cleaning/Data_Wrangling.ipynb\" target=\"_parent\"><img src=\"https://colab.research.google.com/assets/colab-badge.svg\" alt=\"Open In Colab\"/></a>"
      ]
    },
    {
      "cell_type": "code",
      "source": [
        "from data_cleaning import *"
      ],
      "metadata": {
        "id": "e6iSvHhi3RZV"
      },
      "execution_count": null,
      "outputs": []
    },
    {
      "cell_type": "code",
      "source": [
        "import pandas as pd\n",
        "import numpy as np"
      ],
      "metadata": {
        "id": "uOR1aaQzkB3K"
      },
      "execution_count": null,
      "outputs": []
    },
    {
      "cell_type": "code",
      "source": [
        "demo = pd.read_excel('KPMG_raw_data.xlsx', sheet_name='CustomerDemographic', header=1)\n",
        "address = pd.read_excel('KPMG_raw_data.xlsx', sheet_name='CustomerAddress', header=1)\n",
        "transactions = pd.read_excel('KPMG_raw_data.xlsx', sheet_name='Transactions', header=1)\n",
        "new_demo = pd.read_excel('KPMG_raw_data.xlsx', sheet_name='NewCustomerList', header=1)"
      ],
      "metadata": {
        "id": "2_HnVRDUkEs-"
      },
      "execution_count": null,
      "outputs": []
    },
    {
      "cell_type": "code",
      "source": [
        "# .age_bins.value_counts(sort=False).plot.bar(rot=0, title='Age', color=\"b\", figsize=(6,4)).get_figure().savefig('age.png')"
      ],
      "metadata": {
        "id": "XFiQphT53zBi"
      },
      "execution_count": null,
      "outputs": []
    },
    {
      "cell_type": "code",
      "source": [
        "len(demo), len(address), len(transactions), len(new_demo)"
      ],
      "metadata": {
        "colab": {
          "base_uri": "https://localhost:8080/"
        },
        "id": "VYEwRHeCkIlZ",
        "outputId": "16d52179-b37e-4e40-bbb3-6d12f45b7d22"
      },
      "execution_count": null,
      "outputs": [
        {
          "output_type": "execute_result",
          "data": {
            "text/plain": [
              "(4000, 3999, 20000, 1000)"
            ]
          },
          "metadata": {},
          "execution_count": 3
        }
      ]
    },
    {
      "cell_type": "code",
      "source": [
        "## Transactions\n",
        "# some of the customer_id isn't registered in demo_table (i.e 5034)\n",
        "# brand, product_line, product_class, product_size, standard_cost, product_first_sold_date has the same 'NaN' all belong to product_id 0\n",
        "\n",
        "# transaction_id: primary_key\n",
        "# product_id: most_purchased product? to uint8\n",
        "# customer_id: the one with most purchases?\n",
        "# online order: isna, binary (0,1)\n",
        "# order_status: isna, binary(approved, cancelled)\n",
        "# brand: isna, categorical\n",
        "# product_line: isna, categorical\n",
        "# product_class: isna, category\n",
        "# product_size: isna, category\n",
        "\n",
        "## Demo\n",
        "# Gender: to_categorical, F -> Female, Femal -> Female, M -> Male\n",
        "# last_name: isna\n",
        "# default: drop\n",
        "# owns_car: (Yes, No) to binary(categorical)\n",
        "# tenure: to integer, isna\n",
        "# deceased_indictor: (N, Y) to_categorical\n",
        "# wealth_segment: ('Mass Customer', 'Affluent Customer', 'High Net Worth') to categorical\n",
        "# job_industry_category: categorical, isna\n",
        "# job_title: string, isna\n",
        "# DOB: dateofbirth: isna\n",
        "# past_3_years_bike_related_purchases: isna, to int16"
      ],
      "metadata": {
        "id": "E_1gVZiDa_pN"
      },
      "execution_count": null,
      "outputs": []
    },
    {
      "cell_type": "code",
      "source": [
        "np.iinfo(np.uint8)"
      ],
      "metadata": {
        "colab": {
          "base_uri": "https://localhost:8080/"
        },
        "id": "yZDnoMzcm3n-",
        "outputId": "9d82803c-5ecd-448e-98ef-54995188c7ff"
      },
      "execution_count": null,
      "outputs": [
        {
          "output_type": "execute_result",
          "data": {
            "text/plain": [
              "iinfo(min=0, max=255, dtype=uint8)"
            ]
          },
          "metadata": {},
          "execution_count": 91
        }
      ]
    },
    {
      "cell_type": "code",
      "source": [
        "new_demo = pd.read_excel('KPMG_raw_data.xlsx', sheet_name='NewCustomerList', usecols= str,header=1)"
      ],
      "metadata": {
        "id": "4W3WmktRjGsj"
      },
      "execution_count": null,
      "outputs": []
    },
    {
      "cell_type": "code",
      "source": [
        "new_demo.loc[:,~new_demo.columns.str.match(\"Unnamed\")]"
      ],
      "metadata": {
        "id": "uodKfyN7jXWp"
      },
      "execution_count": null,
      "outputs": []
    },
    {
      "cell_type": "code",
      "source": [
        "#age bins\n",
        "(demo\n",
        " .pipe(clean_demo)\n",
        " .merge(clean_transactions(transactions), on='customer_id')\n",
        ").groupby('age_bins').count().customer_id.plot.bar(rot=0).get_figure().savefig('age.png')"
      ],
      "metadata": {
        "colab": {
          "base_uri": "https://localhost:8080/",
          "height": 282
        },
        "id": "L6zSZMfjmwNW",
        "outputId": "822ed214-c0c6-4641-8d24-b9aba57d6271"
      },
      "execution_count": null,
      "outputs": [
        {
          "output_type": "display_data",
          "data": {
            "text/plain": [
              "<Figure size 432x288 with 1 Axes>"
            ],
            "image/png": "[encoded data removed]"
          },
          "metadata": {
            "needs_background": "light"
          }
        }
      ]
    },
    {
      "cell_type": "code",
      "source": [
        "#state\n",
        "(demo\n",
        " .pipe(clean_demo)\n",
        " .merge(clean_transactions(transactions), on='customer_id')\n",
        " .merge(clean_address(address), on='customer_id')\n",
        ").groupby('state').count().customer_id.plot.bar(rot=0)"
      ],
      "metadata": {
        "id": "nwT8Zm5_nNTD",
        "colab": {
          "base_uri": "https://localhost:8080/",
          "height": 296
        },
        "outputId": "961a14d4-35fd-44f4-f56a-73a215de1eca"
      },
      "execution_count": null,
      "outputs": [
        {
          "output_type": "execute_result",
          "data": {
            "text/plain": [
              "<matplotlib.axes._subplots.AxesSubplot at 0x7fb809b32090>"
            ]
          },
          "metadata": {},
          "execution_count": 34
        },
        {
          "output_type": "display_data",
          "data": {
            "text/plain": [
              "<Figure size 432x288 with 1 Axes>"
            ],
            "image/png": "[encoded data removed]"
          },
          "metadata": {
            "needs_background": "light"
          }
        }
      ]
    },
    {
      "cell_type": "code",
      "source": [
        "(demo\n",
        " .pipe(clean_demo)\n",
        " .merge(clean_transactions(transactions), on='customer_id')\n",
        ").groupby('age_bins').count()"
      ],
      "metadata": {
        "colab": {
          "base_uri": "https://localhost:8080/",
          "height": 331
        },
        "id": "MziTn2vTGhkR",
        "outputId": "920e3a5f-468a-46fd-e1a7-579e9db950d3"
      },
      "execution_count": null,
      "outputs": [
        {
          "output_type": "execute_result",
          "data": {
            "text/plain": [
              "          customer_id  first_name  last_name  gender  \\\n",
              "age_bins                                               \n",
              "(10, 19]         1069        1069       1012    1069   \n",
              "(19, 29]         3410        3410       3274    3410   \n",
              "(29, 39]         4563        4563       4464    4563   \n",
              "(39, 49]         5735        5735       5535    5735   \n",
              "(49, 86]         4657        4657       4523    4657   \n",
              "\n",
              "          past_3_years_bike_related_purchases  job_title  \\\n",
              "age_bins                                                   \n",
              "(10, 19]                                 1069       1069   \n",
              "(19, 29]                                 3410       3410   \n",
              "(29, 39]                                 4563       4563   \n",
              "(39, 49]                                 5735       5735   \n",
              "(49, 86]                                 4657       4657   \n",
              "\n",
              "          job_industry_category  wealth_segment  deceased_indicator  owns_car  \\\n",
              "age_bins                                                                        \n",
              "(10, 19]                   1069            1069                1069      1069   \n",
              "(19, 29]                   3410            3410                3410      3410   \n",
              "(29, 39]                   4563            4563                4563      4563   \n",
              "(39, 49]                   5735            5735                5735      5735   \n",
              "(49, 86]                   4657            4657                4657      4657   \n",
              "\n",
              "          ...  product_id  transaction_date  online_order  order_status  \\\n",
              "age_bins  ...                                                             \n",
              "(10, 19]  ...        1069              1069          1069          1069   \n",
              "(19, 29]  ...        3410              3410          3410          3410   \n",
              "(29, 39]  ...        4563              4563          4563          4563   \n",
              "(39, 49]  ...        5735              5735          5735          5735   \n",
              "(49, 86]  ...        4657              4657          4657          4657   \n",
              "\n",
              "          brand  product_line  product_class  product_size  list_price  \\\n",
              "age_bins                                                                 \n",
              "(10, 19]   1069          1069           1069          1069        1069   \n",
              "(19, 29]   3410          3410           3410          3410        3410   \n",
              "(29, 39]   4563          4563           4563          4563        4563   \n",
              "(39, 49]   5735          5735           5735          5735        5735   \n",
              "(49, 86]   4657          4657           4657          4657        4657   \n",
              "\n",
              "          standard_cost  \n",
              "age_bins                 \n",
              "(10, 19]           1069  \n",
              "(19, 29]           3410  \n",
              "(29, 39]           4563  \n",
              "(39, 49]           5735  \n",
              "(49, 86]           4657  \n",
              "\n",
              "[5 rows x 22 columns]"
            ],
            "text/html": [
              "\n",
              "  <div id=\"df-0c1a401e-7741-42f6-a488-6e635ffa979a\">\n",
              "    <div class=\"colab-df-container\">\n",
              "      <div>\n",
              "<style scoped>\n",
              "    .dataframe tbody tr th:only-of-type {\n",
              "        vertical-align: middle;\n",
              "    }\n",
              "\n",
              "    .dataframe tbody tr th {\n",
              "        vertical-align: top;\n",
              "    }\n",
              "\n",
              "    .dataframe thead th {\n",
              "        text-align: right;\n",
              "    }\n",
              "</style>\n",
              "<table border=\"1\" class=\"dataframe\">\n",
              "  <thead>\n",
              "    <tr style=\"text-align: right;\">\n",
              "      <th></th>\n",
              "      <th>customer_id</th>\n",
              "      <th>first_name</th>\n",
              "      <th>last_name</th>\n",
              "      <th>gender</th>\n",
              "      <th>past_3_years_bike_related_purchases</th>\n",
              "      <th>job_title</th>\n",
              "      <th>job_industry_category</th>\n",
              "      <th>wealth_segment</th>\n",
              "      <th>deceased_indicator</th>\n",
              "      <th>owns_car</th>\n",
              "      <th>...</th>\n",
              "      <th>product_id</th>\n",
              "      <th>transaction_date</th>\n",
              "      <th>online_order</th>\n",
              "      <th>order_status</th>\n",
              "      <th>brand</th>\n",
              "      <th>product_line</th>\n",
              "      <th>product_class</th>\n",
              "      <th>product_size</th>\n",
              "      <th>list_price</th>\n",
              "      <th>standard_cost</th>\n",
              "    </tr>\n",
              "    <tr>\n",
              "      <th>age_bins</th>\n",
              "      <th></th>\n",
              "      <th></th>\n",
              "      <th></th>\n",
              "      <th></th>\n",
              "      <th></th>\n",
              "      <th></th>\n",
              "      <th></th>\n",
              "      <th></th>\n",
              "      <th></th>\n",
              "      <th></th>\n",
              "      <th></th>\n",
              "      <th></th>\n",
              "      <th></th>\n",
              "      <th></th>\n",
              "      <th></th>\n",
              "      <th></th>\n",
              "      <th></th>\n",
              "      <th></th>\n",
              "      <th></th>\n",
              "      <th></th>\n",
              "      <th></th>\n",
              "    </tr>\n",
              "  </thead>\n",
              "  <tbody>\n",
              "    <tr>\n",
              "      <th>(10, 19]</th>\n",
              "      <td>1069</td>\n",
              "      <td>1069</td>\n",
              "      <td>1012</td>\n",
              "      <td>1069</td>\n",
              "      <td>1069</td>\n",
              "      <td>1069</td>\n",
              "      <td>1069</td>\n",
              "      <td>1069</td>\n",
              "      <td>1069</td>\n",
              "      <td>1069</td>\n",
              "      <td>...</td>\n",
              "      <td>1069</td>\n",
              "      <td>1069</td>\n",
              "      <td>1069</td>\n",
              "      <td>1069</td>\n",
              "      <td>1069</td>\n",
              "      <td>1069</td>\n",
              "      <td>1069</td>\n",
              "      <td>1069</td>\n",
              "      <td>1069</td>\n",
              "      <td>1069</td>\n",
              "    </tr>\n",
              "    <tr>\n",
              "      <th>(19, 29]</th>\n",
              "      <td>3410</td>\n",
              "      <td>3410</td>\n",
              "      <td>3274</td>\n",
              "      <td>3410</td>\n",
              "      <td>3410</td>\n",
              "      <td>3410</td>\n",
              "      <td>3410</td>\n",
              "      <td>3410</td>\n",
              "      <td>3410</td>\n",
              "      <td>3410</td>\n",
              "      <td>...</td>\n",
              "      <td>3410</td>\n",
              "      <td>3410</td>\n",
              "      <td>3410</td>\n",
              "      <td>3410</td>\n",
              "      <td>3410</td>\n",
              "      <td>3410</td>\n",
              "      <td>3410</td>\n",
              "      <td>3410</td>\n",
              "      <td>3410</td>\n",
              "      <td>3410</td>\n",
              "    </tr>\n",
              "    <tr>\n",
              "      <th>(29, 39]</th>\n",
              "      <td>4563</td>\n",
              "      <td>4563</td>\n",
              "      <td>4464</td>\n",
              "      <td>4563</td>\n",
              "      <td>4563</td>\n",
              "      <td>4563</td>\n",
              "      <td>4563</td>\n",
              "      <td>4563</td>\n",
              "      <td>4563</td>\n",
              "      <td>4563</td>\n",
              "      <td>...</td>\n",
              "      <td>4563</td>\n",
              "      <td>4563</td>\n",
              "      <td>4563</td>\n",
              "      <td>4563</td>\n",
              "      <td>4563</td>\n",
              "      <td>4563</td>\n",
              "      <td>4563</td>\n",
              "      <td>4563</td>\n",
              "      <td>4563</td>\n",
              "      <td>4563</td>\n",
              "    </tr>\n",
              "    <tr>\n",
              "      <th>(39, 49]</th>\n",
              "      <td>5735</td>\n",
              "      <td>5735</td>\n",
              "      <td>5535</td>\n",
              "      <td>5735</td>\n",
              "      <td>5735</td>\n",
              "      <td>5735</td>\n",
              "      <td>5735</td>\n",
              "      <td>5735</td>\n",
              "      <td>5735</td>\n",
              "      <td>5735</td>\n",
              "      <td>...</td>\n",
              "      <td>5735</td>\n",
              "      <td>5735</td>\n",
              "      <td>5735</td>\n",
              "      <td>5735</td>\n",
              "      <td>5735</td>\n",
              "      <td>5735</td>\n",
              "      <td>5735</td>\n",
              "      <td>5735</td>\n",
              "      <td>5735</td>\n",
              "      <td>5735</td>\n",
              "    </tr>\n",
              "    <tr>\n",
              "      <th>(49, 86]</th>\n",
              "      <td>4657</td>\n",
              "      <td>4657</td>\n",
              "      <td>4523</td>\n",
              "      <td>4657</td>\n",
              "      <td>4657</td>\n",
              "      <td>4657</td>\n",
              "      <td>4657</td>\n",
              "      <td>4657</td>\n",
              "      <td>4657</td>\n",
              "      <td>4657</td>\n",
              "      <td>...</td>\n",
              "      <td>4657</td>\n",
              "      <td>4657</td>\n",
              "      <td>4657</td>\n",
              "      <td>4657</td>\n",
              "      <td>4657</td>\n",
              "      <td>4657</td>\n",
              "      <td>4657</td>\n",
              "      <td>4657</td>\n",
              "      <td>4657</td>\n",
              "      <td>4657</td>\n",
              "    </tr>\n",
              "  </tbody>\n",
              "</table>\n",
              "<p>5 rows × 22 columns</p>\n",
              "</div>\n",
              "      <button class=\"colab-df-convert\" onclick=\"convertToInteractive('df-0c1a401e-7741-42f6-a488-6e635ffa979a')\"\n",
              "              title=\"Convert this dataframe to an interactive table.\"\n",
              "              style=\"display:none;\">\n",
              "        \n",
              "  <svg xmlns=\"http://www.w3.org/2000/svg\" height=\"24px\"viewBox=\"0 0 24 24\"\n",
              "       width=\"24px\">\n",
              "    <path d=\"M0 0h24v24H0V0z\" fill=\"none\"/>\n",
              "    <path d=\"M18.56 5.44l.94 2.06.94-2.06 2.06-.94-2.06-.94-.94-2.06-.94 2.06-2.06.94zm-11 1L8.5 8.5l.94-2.06 2.06-.94-2.06-.94L8.5 2.5l-.94 2.06-2.06.94zm10 10l.94 2.06.94-2.06 2.06-.94-2.06-.94-.94-2.06-.94 2.06-2.06.94z\"/><path d=\"M17.41 7.96l-1.37-1.37c-.4-.4-.92-.59-1.43-.59-.52 0-1.04.2-1.43.59L10.3 9.45l-7.72 7.72c-.78.78-.78 2.05 0 2.83L4 21.41c.39.39.9.59 1.41.59.51 0 1.02-.2 1.41-.59l7.78-7.78 2.81-2.81c.8-.78.8-2.07 0-2.86zM5.41 20L4 18.59l7.72-7.72 1.47 1.35L5.41 20z\"/>\n",
              "  </svg>\n",
              "      </button>\n",
              "      \n",
              "  <style>\n",
              "    .colab-df-container {\n",
              "      display:flex;\n",
              "      flex-wrap:wrap;\n",
              "      gap: 12px;\n",
              "    }\n",
              "\n",
              "    .colab-df-convert {\n",
              "      background-color: #E8F0FE;\n",
              "      border: none;\n",
              "      border-radius: 50%;\n",
              "      cursor: pointer;\n",
              "      display: none;\n",
              "      fill: #1967D2;\n",
              "      height: 32px;\n",
              "      padding: 0 0 0 0;\n",
              "      width: 32px;\n",
              "    }\n",
              "\n",
              "    .colab-df-convert:hover {\n",
              "      background-color: #E2EBFA;\n",
              "      box-shadow: 0px 1px 2px rgba(60, 64, 67, 0.3), 0px 1px 3px 1px rgba(60, 64, 67, 0.15);\n",
              "      fill: #174EA6;\n",
              "    }\n",
              "\n",
              "    [theme=dark] .colab-df-convert {\n",
              "      background-color: #3B4455;\n",
              "      fill: #D2E3FC;\n",
              "    }\n",
              "\n",
              "    [theme=dark] .colab-df-convert:hover {\n",
              "      background-color: #434B5C;\n",
              "      box-shadow: 0px 1px 3px 1px rgba(0, 0, 0, 0.15);\n",
              "      filter: drop-shadow(0px 1px 2px rgba(0, 0, 0, 0.3));\n",
              "      fill: #FFFFFF;\n",
              "    }\n",
              "  </style>\n",
              "\n",
              "      <script>\n",
              "        const buttonEl =\n",
              "          document.querySelector('#df-0c1a401e-7741-42f6-a488-6e635ffa979a button.colab-df-convert');\n",
              "        buttonEl.style.display =\n",
              "          google.colab.kernel.accessAllowed ? 'block' : 'none';\n",
              "\n",
              "        async function convertToInteractive(key) {\n",
              "          const element = document.querySelector('#df-0c1a401e-7741-42f6-a488-6e635ffa979a');\n",
              "          const dataTable =\n",
              "            await google.colab.kernel.invokeFunction('convertToInteractive',\n",
              "                                                     [key], {});\n",
              "          if (!dataTable) return;\n",
              "\n",
              "          const docLinkHtml = 'Like what you see? Visit the ' +\n",
              "            '<a target=\"_blank\" href=https://colab.research.google.com/notebooks/data_table.ipynb>data table notebook</a>'\n",
              "            + ' to learn more about interactive tables.';\n",
              "          element.innerHTML = '';\n",
              "          dataTable['output_type'] = 'display_data';\n",
              "          await google.colab.output.renderOutput(dataTable, element);\n",
              "          const docLink = document.createElement('div');\n",
              "          docLink.innerHTML = docLinkHtml;\n",
              "          element.appendChild(docLink);\n",
              "        }\n",
              "      </script>\n",
              "    </div>\n",
              "  </div>\n",
              "  "
            ]
          },
          "metadata": {},
          "execution_count": 35
        }
      ]
    },
    {
      "cell_type": "code",
      "source": [
        ""
      ],
      "metadata": {
        "id": "GcZ01QVMHw0Z"
      },
      "execution_count": null,
      "outputs": []
    }
  ]
}